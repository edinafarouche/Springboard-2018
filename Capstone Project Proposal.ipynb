{
 "cells": [
  {
   "cell_type": "markdown",
   "metadata": {},
   "source": [
    "# Springboard 2018 Capstone Project Proposal\n",
    "\n",
    "## Problem \n",
    "\n",
    "School budgets are often overwhelmingly complex and messy. The education nonprofit, Education Resource Strategies, is routinely given schools' budget data and asked to analyze, summarize, and derive actionable insights on spending strategies. However, the budget data ERS receives is often recorded at the line-item level, with inconsistent freeform text, which makes it difficult to holistically identify major areas of spending and compare budgets across schools and districts. \n",
    "\n",
    "## Client\n",
    "ERS spends hundreds of analyst hours manually \"financially coding\" the data by attaching broad labels to every line-item with the goal of summarizing and comparing spending across schools and districts. By coming up with an algorithm that is able to streamline the process of categorizing budget line items by predicting and assigning labels to each line item, ERS will be able to significantly reduce analyst time spent manually combing through entries and instead focus their resources on analyzing and strategizing with their clients.\n",
    "\n",
    "## Data\n",
    "Data will be from ERS' submission on the \"Box Plots for Education\" competition on Driven Data. See: https://www.drivendata.org/competitions/46/box-plots-for-education-reboot/\n",
    "\n",
    "## Approach\n",
    "I plan on using NLP, specifically the word2vec package in Python to vectorize the free form text data, and then use multinomial logistic regression to predict labels.\n",
    "\n",
    "## Deliverables \n",
    "1. Code in the form of a Jupyter notebook \n",
    "2. Paper outlining techniques used"
   ]
  }
 ],
 "metadata": {
  "kernelspec": {
   "display_name": "Python 3",
   "language": "python",
   "name": "python3"
  },
  "language_info": {
   "codemirror_mode": {
    "name": "ipython",
    "version": 3
   },
   "file_extension": ".py",
   "mimetype": "text/x-python",
   "name": "python",
   "nbconvert_exporter": "python",
   "pygments_lexer": "ipython3",
   "version": "3.6.1"
  }
 },
 "nbformat": 4,
 "nbformat_minor": 2
}
