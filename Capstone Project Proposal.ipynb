{
 "cells": [
  {
   "cell_type": "markdown",
   "metadata": {},
   "source": [
    "# Springboard 2018 Capstone Project Proposal\n",
    "\n",
    "## Problem \n",
    "\n",
    "School budgets are often overwhelmingly complex and messy. The education nonprofit, Education Resource Strategies, is routinely given schools' budget data and asked to analyze, summarize, and derive actionable insights on spending strategies. However, the budget data ERS receives is often recorded at the line-item level, with inconsistent freeform text, which makes it difficult to holistically identify major areas of spending and compare budgets across schools and districts. \n",
    "\n",
    "## Client\n",
    "ERS spends hundreds of analyst hours manually \"financially coding\" the data by attaching broad labels to every line-item with the goal of summarizing and comparing spending across schools and districts. By coming up with an algorithm that is able to streamline the process of categorizing budget line items by predicting and assigning labels to each line item, ERS will be able to significantly reduce analyst time spent manually combing through entries and instead focus their resources on analyzing and strategizing with their clients.\n",
    "\n",
    "What data are you going to use for this? How will you acquire this data?\n",
    "\n",
    "In brief, outline your approach to solving this problem (knowing that this might change later).\n",
    "\n",
    "What are your deliverables? Typically, this would include code, along with a paper and/or a slide deck."
   ]
  },
  {
   "cell_type": "code",
   "execution_count": null,
   "metadata": {
    "collapsed": true
   },
   "outputs": [],
   "source": []
  }
 ],
 "metadata": {
  "kernelspec": {
   "display_name": "Python 3",
   "language": "python",
   "name": "python3"
  },
  "language_info": {
   "codemirror_mode": {
    "name": "ipython",
    "version": 3
   },
   "file_extension": ".py",
   "mimetype": "text/x-python",
   "name": "python",
   "nbconvert_exporter": "python",
   "pygments_lexer": "ipython3",
   "version": "3.6.1"
  }
 },
 "nbformat": 4,
 "nbformat_minor": 2
}
