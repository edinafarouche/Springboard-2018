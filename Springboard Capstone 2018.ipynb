{
 "cells": [
  {
   "cell_type": "markdown",
   "metadata": {},
   "source": [
    "# Classifying School Budgets \n",
    "\n",
    "<b>Description and Objective</b> \n",
    "\n",
    "School budgets are often overwhelmingly complex and messy. Education Resource Strategies, a nonprofit consulting firm dedicated to improving education policy, is routinely given school budget data and asked to analyze, summarize, and derive actionable insights on spending strategies. However, the budget data ERS receives is often recorded at the line-item level, with inconsistent freeform text, which makes it difficult to holistically identify major areas of spending and compare budgets across schools and districts. ERS spends hundreds of analyst hours on manual \"financial coding\" of the data by attaching broad labels to every line-item in order to facilitate the comparison of spending across schools and districts. An algorithm that is able to automatically classify budget line items into distinct categories will allow ERS to significantly reduce analyst time spent manually combing through entries and instead focus their resources on strategizing with their clients.\n",
    "\n",
    "ERS typically uses a system of nine categories to classify each budget line item. For example, a single line item is assigned a value for each of the Function, Object Type, Operating Status, Position Type, Pre-K, Reporting, Sharing, Student Type, and Use categories. There are a total of 104 labels distributed across these nine categories. For the purpose of this capstone, however, I focus on training a model to classify line items according to the Use category. Future work will attempt to train all 9 categories.\n",
    "\n",
    "<b>Data Source</b>\n",
    "\n",
    "Data are from ERS' submission on the \"Box Plots for Education\" competition on Driven Data. See: https://www.drivendata.org/competitions/4/box-plots-for-education/"
   ]
  },
  {
   "cell_type": "markdown",
   "metadata": {},
   "source": [
    "<b>1. Data Cleaning and Exploratory Data Analysis</b>"
   ]
  },
  {
   "cell_type": "code",
   "execution_count": 1,
   "metadata": {
    "collapsed": true
   },
   "outputs": [],
   "source": [
    "#set up and load data\n",
    "%matplotlib inline \n",
    "\n",
    "import numpy as np\n",
    "import pandas as pd\n",
    "import scipy.stats as stats\n",
    "import matplotlib.pyplot as plt\n",
    "import matplotlib\n",
    "import seaborn as sns\n",
    "\n",
    "budget_df=pd.read_csv('Data/Budget Data/LabledBudgetData.csv')"
   ]
  },
  {
   "cell_type": "code",
   "execution_count": 2,
   "metadata": {},
   "outputs": [
    {
     "name": "stdout",
     "output_type": "stream",
     "text": [
      "<class 'pandas.core.frame.DataFrame'>\n",
      "RangeIndex: 400277 entries, 0 to 400276\n",
      "Data columns (total 26 columns):\n",
      "Unnamed: 0                400277 non-null int64\n",
      "Function                  400277 non-null object\n",
      "Use                       400277 non-null object\n",
      "Sharing                   400277 non-null object\n",
      "Reporting                 400277 non-null object\n",
      "Student_Type              400277 non-null object\n",
      "Position_Type             400277 non-null object\n",
      "Object_Type               400277 non-null object\n",
      "Pre_K                     400277 non-null object\n",
      "Operating_Status          400277 non-null object\n",
      "Object_Description        375493 non-null object\n",
      "Text_2                    88217 non-null object\n",
      "SubFund_Description       306855 non-null object\n",
      "Job_Title_Description     292743 non-null object\n",
      "Text_3                    179964 non-null object\n",
      "Text_4                    53746 non-null object\n",
      "Sub_Object_Description    91603 non-null object\n",
      "Location_Description      162054 non-null object\n",
      "FTE                       126071 non-null float64\n",
      "Function_Description      342195 non-null object\n",
      "Facility_or_Department    53886 non-null object\n",
      "Position_Extra            264764 non-null object\n",
      "Total                     395722 non-null float64\n",
      "Program_Description       304660 non-null object\n",
      "Fund_Description          202877 non-null object\n",
      "Text_1                    292285 non-null object\n",
      "dtypes: float64(2), int64(1), object(23)\n",
      "memory usage: 79.4+ MB\n",
      "       Unnamed: 0         FTE          Total\n",
      "count 400277.0000 126071.0000    395722.0000\n",
      "mean  225186.0185      0.4268     13105.8568\n",
      "std   130025.1427      0.5736    368225.3924\n",
      "min        2.0000     -0.0876 -87466307.1500\n",
      "25%   112601.0000      0.0008        73.7977\n",
      "50%   225243.0000      0.1309       461.2300\n",
      "75%   337722.0000      1.0000      3652.6625\n",
      "max   450340.0000     46.8000 129699999.2200\n"
     ]
    }
   ],
   "source": [
    "pd.options.display.float_format = '{:.4f}'.format\n",
    "\n",
    "# Variables\n",
    "budget_df.info()\n",
    "\n",
    "# Summary statistics\n",
    "print(budget_df.describe())"
   ]
  },
  {
   "cell_type": "code",
   "execution_count": 3,
   "metadata": {},
   "outputs": [
    {
     "data": {
      "text/html": [
       "<div>\n",
       "<style>\n",
       "    .dataframe thead tr:only-child th {\n",
       "        text-align: right;\n",
       "    }\n",
       "\n",
       "    .dataframe thead th {\n",
       "        text-align: left;\n",
       "    }\n",
       "\n",
       "    .dataframe tbody tr th {\n",
       "        vertical-align: top;\n",
       "    }\n",
       "</style>\n",
       "<table border=\"1\" class=\"dataframe\">\n",
       "  <thead>\n",
       "    <tr style=\"text-align: right;\">\n",
       "      <th></th>\n",
       "      <th>Unnamed: 0</th>\n",
       "      <th>Function</th>\n",
       "      <th>Use</th>\n",
       "      <th>Sharing</th>\n",
       "      <th>Reporting</th>\n",
       "      <th>Student_Type</th>\n",
       "      <th>Position_Type</th>\n",
       "      <th>Object_Type</th>\n",
       "      <th>Pre_K</th>\n",
       "      <th>Operating_Status</th>\n",
       "      <th>...</th>\n",
       "      <th>Sub_Object_Description</th>\n",
       "      <th>Location_Description</th>\n",
       "      <th>FTE</th>\n",
       "      <th>Function_Description</th>\n",
       "      <th>Facility_or_Department</th>\n",
       "      <th>Position_Extra</th>\n",
       "      <th>Total</th>\n",
       "      <th>Program_Description</th>\n",
       "      <th>Fund_Description</th>\n",
       "      <th>Text_1</th>\n",
       "    </tr>\n",
       "  </thead>\n",
       "  <tbody>\n",
       "    <tr>\n",
       "      <th>0</th>\n",
       "      <td>134338</td>\n",
       "      <td>Teacher Compensation</td>\n",
       "      <td>Instruction</td>\n",
       "      <td>School Reported</td>\n",
       "      <td>School</td>\n",
       "      <td>NO_LABEL</td>\n",
       "      <td>Teacher</td>\n",
       "      <td>NO_LABEL</td>\n",
       "      <td>NO_LABEL</td>\n",
       "      <td>PreK-12 Operating</td>\n",
       "      <td>...</td>\n",
       "      <td>NaN</td>\n",
       "      <td>NaN</td>\n",
       "      <td>1.0000</td>\n",
       "      <td>NaN</td>\n",
       "      <td>NaN</td>\n",
       "      <td>KINDERGARTEN</td>\n",
       "      <td>50471.8100</td>\n",
       "      <td>KINDERGARTEN</td>\n",
       "      <td>General Fund</td>\n",
       "      <td>NaN</td>\n",
       "    </tr>\n",
       "    <tr>\n",
       "      <th>1</th>\n",
       "      <td>206341</td>\n",
       "      <td>NO_LABEL</td>\n",
       "      <td>NO_LABEL</td>\n",
       "      <td>NO_LABEL</td>\n",
       "      <td>NO_LABEL</td>\n",
       "      <td>NO_LABEL</td>\n",
       "      <td>NO_LABEL</td>\n",
       "      <td>NO_LABEL</td>\n",
       "      <td>NO_LABEL</td>\n",
       "      <td>Non-Operating</td>\n",
       "      <td>...</td>\n",
       "      <td>NaN</td>\n",
       "      <td>NaN</td>\n",
       "      <td>nan</td>\n",
       "      <td>RGN  GOB</td>\n",
       "      <td>NaN</td>\n",
       "      <td>UNDESIGNATED</td>\n",
       "      <td>3477.8600</td>\n",
       "      <td>BUILDING IMPROVEMENT SERVICES</td>\n",
       "      <td>NaN</td>\n",
       "      <td>BUILDING IMPROVEMENT SERVICES</td>\n",
       "    </tr>\n",
       "    <tr>\n",
       "      <th>2</th>\n",
       "      <td>326408</td>\n",
       "      <td>Teacher Compensation</td>\n",
       "      <td>Instruction</td>\n",
       "      <td>School Reported</td>\n",
       "      <td>School</td>\n",
       "      <td>Unspecified</td>\n",
       "      <td>Teacher</td>\n",
       "      <td>Base Salary/Compensation</td>\n",
       "      <td>Non PreK</td>\n",
       "      <td>PreK-12 Operating</td>\n",
       "      <td>...</td>\n",
       "      <td>NaN</td>\n",
       "      <td>NaN</td>\n",
       "      <td>1.0000</td>\n",
       "      <td>NaN</td>\n",
       "      <td>NaN</td>\n",
       "      <td>TEACHER</td>\n",
       "      <td>62237.1300</td>\n",
       "      <td>Instruction - Regular</td>\n",
       "      <td>General Purpose School</td>\n",
       "      <td>NaN</td>\n",
       "    </tr>\n",
       "    <tr>\n",
       "      <th>3</th>\n",
       "      <td>364634</td>\n",
       "      <td>Substitute Compensation</td>\n",
       "      <td>Instruction</td>\n",
       "      <td>School Reported</td>\n",
       "      <td>School</td>\n",
       "      <td>Unspecified</td>\n",
       "      <td>Substitute</td>\n",
       "      <td>Benefits</td>\n",
       "      <td>NO_LABEL</td>\n",
       "      <td>PreK-12 Operating</td>\n",
       "      <td>...</td>\n",
       "      <td>NaN</td>\n",
       "      <td>NaN</td>\n",
       "      <td>nan</td>\n",
       "      <td>UNALLOC BUDGETS/SCHOOLS</td>\n",
       "      <td>NaN</td>\n",
       "      <td>PROFESSIONAL-INSTRUCTIONAL</td>\n",
       "      <td>22.3000</td>\n",
       "      <td>GENERAL MIDDLE/JUNIOR HIGH SCH</td>\n",
       "      <td>NaN</td>\n",
       "      <td>REGULAR INSTRUCTION</td>\n",
       "    </tr>\n",
       "    <tr>\n",
       "      <th>4</th>\n",
       "      <td>47683</td>\n",
       "      <td>Substitute Compensation</td>\n",
       "      <td>Instruction</td>\n",
       "      <td>School Reported</td>\n",
       "      <td>School</td>\n",
       "      <td>Unspecified</td>\n",
       "      <td>Teacher</td>\n",
       "      <td>Substitute Compensation</td>\n",
       "      <td>NO_LABEL</td>\n",
       "      <td>PreK-12 Operating</td>\n",
       "      <td>...</td>\n",
       "      <td>NaN</td>\n",
       "      <td>NaN</td>\n",
       "      <td>nan</td>\n",
       "      <td>NON-PROJECT</td>\n",
       "      <td>NaN</td>\n",
       "      <td>PROFESSIONAL-INSTRUCTIONAL</td>\n",
       "      <td>54.1660</td>\n",
       "      <td>GENERAL HIGH SCHOOL EDUCATION</td>\n",
       "      <td>NaN</td>\n",
       "      <td>REGULAR INSTRUCTION</td>\n",
       "    </tr>\n",
       "  </tbody>\n",
       "</table>\n",
       "<p>5 rows × 26 columns</p>\n",
       "</div>"
      ],
      "text/plain": [
       "   Unnamed: 0                 Function          Use          Sharing  \\\n",
       "0      134338     Teacher Compensation  Instruction  School Reported   \n",
       "1      206341                 NO_LABEL     NO_LABEL         NO_LABEL   \n",
       "2      326408     Teacher Compensation  Instruction  School Reported   \n",
       "3      364634  Substitute Compensation  Instruction  School Reported   \n",
       "4       47683  Substitute Compensation  Instruction  School Reported   \n",
       "\n",
       "  Reporting Student_Type Position_Type               Object_Type     Pre_K  \\\n",
       "0    School     NO_LABEL       Teacher                  NO_LABEL  NO_LABEL   \n",
       "1  NO_LABEL     NO_LABEL      NO_LABEL                  NO_LABEL  NO_LABEL   \n",
       "2    School  Unspecified       Teacher  Base Salary/Compensation  Non PreK   \n",
       "3    School  Unspecified    Substitute                  Benefits  NO_LABEL   \n",
       "4    School  Unspecified       Teacher   Substitute Compensation  NO_LABEL   \n",
       "\n",
       "    Operating_Status              ...               Sub_Object_Description  \\\n",
       "0  PreK-12 Operating              ...                                  NaN   \n",
       "1      Non-Operating              ...                                  NaN   \n",
       "2  PreK-12 Operating              ...                                  NaN   \n",
       "3  PreK-12 Operating              ...                                  NaN   \n",
       "4  PreK-12 Operating              ...                                  NaN   \n",
       "\n",
       "  Location_Description    FTE     Function_Description Facility_or_Department  \\\n",
       "0                  NaN 1.0000                      NaN                    NaN   \n",
       "1                  NaN    nan                 RGN  GOB                    NaN   \n",
       "2                  NaN 1.0000                      NaN                    NaN   \n",
       "3                  NaN    nan  UNALLOC BUDGETS/SCHOOLS                    NaN   \n",
       "4                  NaN    nan              NON-PROJECT                    NaN   \n",
       "\n",
       "               Position_Extra      Total             Program_Description  \\\n",
       "0               KINDERGARTEN  50471.8100                    KINDERGARTEN   \n",
       "1                UNDESIGNATED  3477.8600   BUILDING IMPROVEMENT SERVICES   \n",
       "2                     TEACHER 62237.1300           Instruction - Regular   \n",
       "3  PROFESSIONAL-INSTRUCTIONAL    22.3000  GENERAL MIDDLE/JUNIOR HIGH SCH   \n",
       "4  PROFESSIONAL-INSTRUCTIONAL    54.1660   GENERAL HIGH SCHOOL EDUCATION   \n",
       "\n",
       "         Fund_Description                         Text_1  \n",
       "0            General Fund                            NaN  \n",
       "1                     NaN  BUILDING IMPROVEMENT SERVICES  \n",
       "2  General Purpose School                            NaN  \n",
       "3                     NaN            REGULAR INSTRUCTION  \n",
       "4                     NaN            REGULAR INSTRUCTION  \n",
       "\n",
       "[5 rows x 26 columns]"
      ]
     },
     "execution_count": 3,
     "metadata": {},
     "output_type": "execute_result"
    }
   ],
   "source": [
    "budget_df.head()"
   ]
  },
  {
   "cell_type": "code",
   "execution_count": 4,
   "metadata": {},
   "outputs": [
    {
     "data": {
      "text/plain": [
       "(382627, 25)"
      ]
     },
     "execution_count": 4,
     "metadata": {},
     "output_type": "execute_result"
    }
   ],
   "source": [
    "# Drop 'Unnamed: 0' - it seems to be an ID column which we don't need\n",
    "budget_df.drop('Unnamed: 0', axis = 1, inplace = True)\n",
    "\n",
    "# Drop duplicate rows\n",
    "budget_df.drop_duplicates(inplace=True)\n",
    "\n",
    "budget_df.shape"
   ]
  },
  {
   "cell_type": "code",
   "execution_count": 5,
   "metadata": {
    "collapsed": true
   },
   "outputs": [
    {
     "data": {
      "text/html": [
       "<div>\n",
       "<style>\n",
       "    .dataframe thead tr:only-child th {\n",
       "        text-align: right;\n",
       "    }\n",
       "\n",
       "    .dataframe thead th {\n",
       "        text-align: left;\n",
       "    }\n",
       "\n",
       "    .dataframe tbody tr th {\n",
       "        vertical-align: top;\n",
       "    }\n",
       "</style>\n",
       "<table border=\"1\" class=\"dataframe\">\n",
       "  <thead>\n",
       "    <tr style=\"text-align: right;\">\n",
       "      <th></th>\n",
       "      <th>FTE</th>\n",
       "      <th>Total</th>\n",
       "    </tr>\n",
       "  </thead>\n",
       "  <tbody>\n",
       "    <tr>\n",
       "      <th>count</th>\n",
       "      <td>117323.0000</td>\n",
       "      <td>379972.0000</td>\n",
       "    </tr>\n",
       "    <tr>\n",
       "      <th>mean</th>\n",
       "      <td>0.4496</td>\n",
       "      <td>15339.9595</td>\n",
       "    </tr>\n",
       "    <tr>\n",
       "      <th>std</th>\n",
       "      <td>0.4531</td>\n",
       "      <td>250888.7387</td>\n",
       "    </tr>\n",
       "    <tr>\n",
       "      <th>min</th>\n",
       "      <td>0.0000</td>\n",
       "      <td>0.0000</td>\n",
       "    </tr>\n",
       "    <tr>\n",
       "      <th>25%</th>\n",
       "      <td>0.0022</td>\n",
       "      <td>78.8050</td>\n",
       "    </tr>\n",
       "    <tr>\n",
       "      <th>50%</th>\n",
       "      <td>0.2500</td>\n",
       "      <td>504.0900</td>\n",
       "    </tr>\n",
       "    <tr>\n",
       "      <th>75%</th>\n",
       "      <td>1.0000</td>\n",
       "      <td>4028.9947</td>\n",
       "    </tr>\n",
       "    <tr>\n",
       "      <th>max</th>\n",
       "      <td>1.0000</td>\n",
       "      <td>53237974.8900</td>\n",
       "    </tr>\n",
       "  </tbody>\n",
       "</table>\n",
       "</div>"
      ],
      "text/plain": [
       "              FTE         Total\n",
       "count 117323.0000   379972.0000\n",
       "mean       0.4496    15339.9595\n",
       "std        0.4531   250888.7387\n",
       "min        0.0000        0.0000\n",
       "25%        0.0022       78.8050\n",
       "50%        0.2500      504.0900\n",
       "75%        1.0000     4028.9947\n",
       "max        1.0000 53237974.8900"
      ]
     },
     "execution_count": 5,
     "metadata": {},
     "output_type": "execute_result"
    }
   ],
   "source": [
    "# Clean numeric data \n",
    "budget_df=budget_df[budget_df.Total != 129699999.2200]\n",
    "budget_df.loc[budget_df.Total < 0, 'Total'] = 0\n",
    "budget_df.loc[budget_df.FTE > 1, 'FTE'] = 1\n",
    "budget_df.loc[budget_df.FTE < 0, 'FTE'] = 0\n",
    "\n",
    "budget_df.describe()"
   ]
  },
  {
   "cell_type": "markdown",
   "metadata": {},
   "source": [
    "There were about 18,010 (4%) duplicate line items that were dropped from the analysis. There was also an extreme value for the total column that was dropped, for a total of 382,266 line items. The numeric columns had a few extreme/nonsensical values, so these were recoded."
   ]
  },
  {
   "cell_type": "code",
   "execution_count": 6,
   "metadata": {},
   "outputs": [
    {
     "data": {
      "image/png": "[encoded data removed]",
      "text/plain": [
       "<matplotlib.figure.Figure at 0x194c220dc18>"
      ]
     },
     "metadata": {},
     "output_type": "display_data"
    }
   ],
   "source": [
    "# plot the number of line items in each Use Type category \n",
    "plt.figure(figsize=[20, 5])\n",
    "plt.rcParams.update({'font.size': 26})\n",
    "sns.countplot(x='Use', data=budget_df, order = budget_df['Use'].value_counts(ascending=False).index)\n",
    "plt.title('Number of Line Items in Each Use Type Category')\n",
    "plt.ylabel(\"Number of Line Items\")\n",
    "plt.show()"
   ]
  },
  {
   "cell_type": "markdown",
   "metadata": {},
   "source": [
    "The classes appear to be heavily imbalanced, with over half of the line items belonging in the \"Instruction\" and \"No Label\" category."
   ]
  },
  {
   "cell_type": "code",
   "execution_count": 7,
   "metadata": {},
   "outputs": [
    {
     "data": {
      "text/html": [
       "<div>\n",
       "<style>\n",
       "    .dataframe thead tr:only-child th {\n",
       "        text-align: right;\n",
       "    }\n",
       "\n",
       "    .dataframe thead th {\n",
       "        text-align: left;\n",
       "    }\n",
       "\n",
       "    .dataframe tbody tr th {\n",
       "        vertical-align: top;\n",
       "    }\n",
       "</style>\n",
       "<table border=\"1\" class=\"dataframe\">\n",
       "  <thead>\n",
       "    <tr style=\"text-align: right;\">\n",
       "      <th></th>\n",
       "      <th>Function</th>\n",
       "      <th>Use</th>\n",
       "      <th>Sharing</th>\n",
       "      <th>Reporting</th>\n",
       "      <th>Student_Type</th>\n",
       "      <th>Position_Type</th>\n",
       "      <th>Object_Type</th>\n",
       "      <th>Pre_K</th>\n",
       "      <th>Operating_Status</th>\n",
       "      <th>Object_Description</th>\n",
       "      <th>...</th>\n",
       "      <th>Sub_Object_Description</th>\n",
       "      <th>Location_Description</th>\n",
       "      <th>FTE</th>\n",
       "      <th>Function_Description</th>\n",
       "      <th>Facility_or_Department</th>\n",
       "      <th>Position_Extra</th>\n",
       "      <th>Total</th>\n",
       "      <th>Program_Description</th>\n",
       "      <th>Fund_Description</th>\n",
       "      <th>Text_1</th>\n",
       "    </tr>\n",
       "  </thead>\n",
       "  <tbody>\n",
       "    <tr>\n",
       "      <th>1</th>\n",
       "      <td>NO_LABEL</td>\n",
       "      <td>NO_LABEL</td>\n",
       "      <td>NO_LABEL</td>\n",
       "      <td>NO_LABEL</td>\n",
       "      <td>NO_LABEL</td>\n",
       "      <td>NO_LABEL</td>\n",
       "      <td>NO_LABEL</td>\n",
       "      <td>NO_LABEL</td>\n",
       "      <td>Non-Operating</td>\n",
       "      <td>CONTRACTOR SERVICES</td>\n",
       "      <td>...</td>\n",
       "      <td>NaN</td>\n",
       "      <td>NaN</td>\n",
       "      <td>nan</td>\n",
       "      <td>RGN  GOB</td>\n",
       "      <td>NaN</td>\n",
       "      <td>UNDESIGNATED</td>\n",
       "      <td>3477.8600</td>\n",
       "      <td>BUILDING IMPROVEMENT SERVICES</td>\n",
       "      <td>NaN</td>\n",
       "      <td>BUILDING IMPROVEMENT SERVICES</td>\n",
       "    </tr>\n",
       "    <tr>\n",
       "      <th>10</th>\n",
       "      <td>NO_LABEL</td>\n",
       "      <td>NO_LABEL</td>\n",
       "      <td>NO_LABEL</td>\n",
       "      <td>NO_LABEL</td>\n",
       "      <td>NO_LABEL</td>\n",
       "      <td>NO_LABEL</td>\n",
       "      <td>NO_LABEL</td>\n",
       "      <td>NO_LABEL</td>\n",
       "      <td>Non-Operating</td>\n",
       "      <td>EQUIPMENT *</td>\n",
       "      <td>...</td>\n",
       "      <td>Equipment *</td>\n",
       "      <td>NaN</td>\n",
       "      <td>nan</td>\n",
       "      <td>State and Federal Projects Coordination Services*</td>\n",
       "      <td>NaN</td>\n",
       "      <td>NaN</td>\n",
       "      <td>0.0000</td>\n",
       "      <td>NaN</td>\n",
       "      <td>School to Work</td>\n",
       "      <td>ITEMAI-CITY-YTH EMP &amp; OPP</td>\n",
       "    </tr>\n",
       "    <tr>\n",
       "      <th>13</th>\n",
       "      <td>NO_LABEL</td>\n",
       "      <td>NO_LABEL</td>\n",
       "      <td>NO_LABEL</td>\n",
       "      <td>NO_LABEL</td>\n",
       "      <td>NO_LABEL</td>\n",
       "      <td>NO_LABEL</td>\n",
       "      <td>NO_LABEL</td>\n",
       "      <td>NO_LABEL</td>\n",
       "      <td>Non-Operating</td>\n",
       "      <td>Regular *</td>\n",
       "      <td>...</td>\n",
       "      <td>Certificated Employees Salaries And Wages</td>\n",
       "      <td>NaN</td>\n",
       "      <td>nan</td>\n",
       "      <td>Disadvantaged Youth *</td>\n",
       "      <td>NaN</td>\n",
       "      <td>NaN</td>\n",
       "      <td>0.0000</td>\n",
       "      <td>NaN</td>\n",
       "      <td>Title I - Disadvantaged Children/Targeted Assi...</td>\n",
       "      <td>TITLE I</td>\n",
       "    </tr>\n",
       "    <tr>\n",
       "      <th>14</th>\n",
       "      <td>NO_LABEL</td>\n",
       "      <td>NO_LABEL</td>\n",
       "      <td>NO_LABEL</td>\n",
       "      <td>NO_LABEL</td>\n",
       "      <td>NO_LABEL</td>\n",
       "      <td>NO_LABEL</td>\n",
       "      <td>NO_LABEL</td>\n",
       "      <td>NO_LABEL</td>\n",
       "      <td>Operating, Not PreK-12</td>\n",
       "      <td>OTHER PERSONAL SERVICES</td>\n",
       "      <td>...</td>\n",
       "      <td>NaN</td>\n",
       "      <td>CHARTER</td>\n",
       "      <td>0.0000</td>\n",
       "      <td>BASIC (FEFP K-12)</td>\n",
       "      <td>NaN</td>\n",
       "      <td>NaN</td>\n",
       "      <td>228.5300</td>\n",
       "      <td>NaN</td>\n",
       "      <td>CONVERSION CHARTER SCHOOLS</td>\n",
       "      <td>NaN</td>\n",
       "    </tr>\n",
       "    <tr>\n",
       "      <th>19</th>\n",
       "      <td>NO_LABEL</td>\n",
       "      <td>NO_LABEL</td>\n",
       "      <td>NO_LABEL</td>\n",
       "      <td>NO_LABEL</td>\n",
       "      <td>NO_LABEL</td>\n",
       "      <td>NO_LABEL</td>\n",
       "      <td>NO_LABEL</td>\n",
       "      <td>NO_LABEL</td>\n",
       "      <td>Non-Operating</td>\n",
       "      <td>Non-Certificated Travel Reimbursement</td>\n",
       "      <td>...</td>\n",
       "      <td>Travel Mileage/Meeting Expense *</td>\n",
       "      <td>NaN</td>\n",
       "      <td>nan</td>\n",
       "      <td>Instruction And Curriculum Development Services *</td>\n",
       "      <td>NaN</td>\n",
       "      <td>NaN</td>\n",
       "      <td>0.0000</td>\n",
       "      <td>NaN</td>\n",
       "      <td>Special Trust</td>\n",
       "      <td>RESP SEXUAL BEHAVIOR</td>\n",
       "    </tr>\n",
       "  </tbody>\n",
       "</table>\n",
       "<p>5 rows × 25 columns</p>\n",
       "</div>"
      ],
      "text/plain": [
       "    Function       Use   Sharing Reporting Student_Type Position_Type  \\\n",
       "1   NO_LABEL  NO_LABEL  NO_LABEL  NO_LABEL     NO_LABEL      NO_LABEL   \n",
       "10  NO_LABEL  NO_LABEL  NO_LABEL  NO_LABEL     NO_LABEL      NO_LABEL   \n",
       "13  NO_LABEL  NO_LABEL  NO_LABEL  NO_LABEL     NO_LABEL      NO_LABEL   \n",
       "14  NO_LABEL  NO_LABEL  NO_LABEL  NO_LABEL     NO_LABEL      NO_LABEL   \n",
       "19  NO_LABEL  NO_LABEL  NO_LABEL  NO_LABEL     NO_LABEL      NO_LABEL   \n",
       "\n",
       "   Object_Type     Pre_K        Operating_Status  \\\n",
       "1     NO_LABEL  NO_LABEL           Non-Operating   \n",
       "10    NO_LABEL  NO_LABEL           Non-Operating   \n",
       "13    NO_LABEL  NO_LABEL           Non-Operating   \n",
       "14    NO_LABEL  NO_LABEL  Operating, Not PreK-12   \n",
       "19    NO_LABEL  NO_LABEL           Non-Operating   \n",
       "\n",
       "                       Object_Description              ...                \\\n",
       "1                     CONTRACTOR SERVICES              ...                 \n",
       "10                            EQUIPMENT *              ...                 \n",
       "13                              Regular *              ...                 \n",
       "14         OTHER PERSONAL SERVICES                     ...                 \n",
       "19  Non-Certificated Travel Reimbursement              ...                 \n",
       "\n",
       "                       Sub_Object_Description Location_Description    FTE  \\\n",
       "1                                         NaN                  NaN    nan   \n",
       "10                                Equipment *                  NaN    nan   \n",
       "13  Certificated Employees Salaries And Wages                  NaN    nan   \n",
       "14                                        NaN              CHARTER 0.0000   \n",
       "19           Travel Mileage/Meeting Expense *                  NaN    nan   \n",
       "\n",
       "                                 Function_Description Facility_or_Department  \\\n",
       "1                                            RGN  GOB                    NaN   \n",
       "10  State and Federal Projects Coordination Services*                    NaN   \n",
       "13                              Disadvantaged Youth *                    NaN   \n",
       "14                     BASIC (FEFP K-12)                                 NaN   \n",
       "19  Instruction And Curriculum Development Services *                    NaN   \n",
       "\n",
       "   Position_Extra     Total            Program_Description  \\\n",
       "1    UNDESIGNATED 3477.8600  BUILDING IMPROVEMENT SERVICES   \n",
       "10            NaN    0.0000                            NaN   \n",
       "13            NaN    0.0000                            NaN   \n",
       "14            NaN  228.5300                            NaN   \n",
       "19            NaN    0.0000                            NaN   \n",
       "\n",
       "                                     Fund_Description  \\\n",
       "1                                                 NaN   \n",
       "10                                     School to Work   \n",
       "13  Title I - Disadvantaged Children/Targeted Assi...   \n",
       "14                     CONVERSION CHARTER SCHOOLS       \n",
       "19                                      Special Trust   \n",
       "\n",
       "                           Text_1  \n",
       "1   BUILDING IMPROVEMENT SERVICES  \n",
       "10     ITEMAI-CITY-YTH EMP & OPP   \n",
       "13                       TITLE I   \n",
       "14                            NaN  \n",
       "19          RESP SEXUAL BEHAVIOR   \n",
       "\n",
       "[5 rows x 25 columns]"
      ]
     },
     "execution_count": 7,
     "metadata": {},
     "output_type": "execute_result"
    }
   ],
   "source": [
    "# Inspect Use == 'No Label'\n",
    "budget_df[budget_df.Use=='NO_LABEL'].head()"
   ]
  },
  {
   "cell_type": "markdown",
   "metadata": {},
   "source": [
    "It is unclear why why some line items would not be labeled. These should be dropped so that they do not interfere with classification."
   ]
  },
  {
   "cell_type": "code",
   "execution_count": 8,
   "metadata": {
    "scrolled": true
   },
   "outputs": [
    {
     "data": {
      "image/png": "[encoded data removed]",
      "text/plain": [
       "<matplotlib.figure.Figure at 0x194c221f208>"
      ]
     },
     "metadata": {},
     "output_type": "display_data"
    },
    {
     "data": {
      "text/plain": [
       "(305692, 25)"
      ]
     },
     "execution_count": 8,
     "metadata": {},
     "output_type": "execute_result"
    }
   ],
   "source": [
    "budget_df=budget_df[budget_df.Use!='NO_LABEL']\n",
    "\n",
    "# Plot updated graph\n",
    "plt.figure(figsize=[20, 5])\n",
    "plt.rcParams.update({'font.size': 26})\n",
    "sns.countplot(x='Use', data=budget_df, order = budget_df['Use'].value_counts(ascending=False).index)\n",
    "plt.title('Number of Line Items in Each Use Type Category')\n",
    "plt.ylabel(\"Number of Line Items\")\n",
    "plt.show()\n",
    "\n",
    "budget_df.shape"
   ]
  },
  {
   "cell_type": "markdown",
   "metadata": {},
   "source": [
    "Next, I investigate the numeric variables."
   ]
  },
  {
   "cell_type": "code",
   "execution_count": 9,
   "metadata": {},
   "outputs": [
    {
     "data": {
      "text/plain": [
       "(0, 100)"
      ]
     },
     "execution_count": 9,
     "metadata": {},
     "output_type": "execute_result"
    },
    {
     "data": {
      "image/png": "[encoded data removed]",
      "text/plain": [
       "<matplotlib.figure.Figure at 0x194c225ab70>"
      ]
     },
     "metadata": {},
     "output_type": "display_data"
    }
   ],
   "source": [
    "# Histogram of %FTE\n",
    "plt.hist((budget_df['FTE'].dropna())*100)\n",
    "\n",
    "# Add title and labels\n",
    "plt.title('Distribution of Employees by %Full-Time')\n",
    "plt.xlabel('% of Full-time')\n",
    "plt.ylabel('Number of Employees')\n",
    "plt.xlim(0,100)"
   ]
  },
  {
   "cell_type": "markdown",
   "metadata": {},
   "source": [
    "About 40% of the employees in the data are employed 90% or more full-time. "
   ]
  },
  {
   "cell_type": "code",
   "execution_count": 10,
   "metadata": {},
   "outputs": [
    {
     "data": {
      "text/plain": [
       "<matplotlib.text.Text at 0x194c2aad9b0>"
      ]
     },
     "execution_count": 10,
     "metadata": {},
     "output_type": "execute_result"
    },
    {
     "data": {
      "image/png": "[encoded data removed]",
      "text/plain": [
       "<matplotlib.figure.Figure at 0x194c2a98e10>"
      ]
     },
     "metadata": {},
     "output_type": "display_data"
    }
   ],
   "source": [
    "bp=budget_df[['FTE','Use']].dropna()\n",
    "plt.rcParams.update({'font.size': 10})\n",
    "bp.boxplot('FTE', by='Use', figsize=(20, 5))\n",
    "plt.ylim(-.5,1.5)\n",
    "plt.title(\"% FTE\")\n",
    "plt.ylabel(\"% FTE\")"
   ]
  },
  {
   "cell_type": "code",
   "execution_count": 11,
   "metadata": {},
   "outputs": [
    {
     "name": "stderr",
     "output_type": "stream",
     "text": [
      "C:\\Users\\ADINA\\Anaconda3\\lib\\site-packages\\statsmodels\\compat\\pandas.py:56: FutureWarning: The pandas.core.datetools module is deprecated and will be removed in a future version. Please use the pandas.tseries module instead.\n",
      "  from pandas.core import datetools\n"
     ]
    },
    {
     "name": "stdout",
     "output_type": "stream",
     "text": [
      "             sum_sq          df        F  PR(>F)\n",
      "Use        362.3532      6.0000 298.9079  0.0000\n",
      "Residual 21905.0813 108418.0000      nan     nan\n"
     ]
    }
   ],
   "source": [
    "import statsmodels.api as sm\n",
    "from statsmodels.formula.api import ols\n",
    "\n",
    "print(sm.stats.anova_lm(ols('FTE ~ Use', data=budget_df).fit(), typ=2))"
   ]
  },
  {
   "cell_type": "markdown",
   "metadata": {},
   "source": [
    "The boxplot above shows that there is considerable variation in the average % of Full Time between employees assigned to different groups. A one-way analysis of variance (ANOVA) test confirms that the average % FTE is statistically significantly different between the different Use groups. This indicates that % FTE may be a good classifier."
   ]
  },
  {
   "cell_type": "code",
   "execution_count": 12,
   "metadata": {},
   "outputs": [
    {
     "data": {
      "image/png": "[encoded data removed]",
      "text/plain": [
       "<matplotlib.figure.Figure at 0x194c2a55cc0>"
      ]
     },
     "metadata": {},
     "output_type": "display_data"
    }
   ],
   "source": [
    "plt.figure(figsize=[20, 5])\n",
    "sns.barplot(x='Use', y=\"Total\", data=budget_df)\n",
    "plt.rcParams.update({'font.size': 26})\n",
    "plt.title('Average Dollars Spent by Use Type Category')\n",
    "plt.show()"
   ]
  },
  {
   "cell_type": "code",
   "execution_count": 13,
   "metadata": {},
   "outputs": [
    {
     "name": "stdout",
     "output_type": "stream",
     "text": [
      "                        sum_sq          df       F  PR(>F)\n",
      "Use         1251694214294.1257      6.0000 32.5357  0.0000\n",
      "Residual 1949620788508555.7500 304063.0000     nan     nan\n"
     ]
    }
   ],
   "source": [
    "print(sm.stats.anova_lm(ols('Total ~ Use', data=budget_df).fit(), typ=2))"
   ]
  },
  {
   "cell_type": "markdown",
   "metadata": {},
   "source": [
    "Average spending tends to be relatively similar across different student types, not including the \"Alternative\" student type and the unclassified line items. A one-way ANOVA test confirms that the average spending is statistically significantly different between two or more groups."
   ]
  },
  {
   "cell_type": "code",
   "execution_count": 14,
   "metadata": {},
   "outputs": [
    {
     "data": {
      "image/png": "[encoded data removed]",
      "text/plain": [
       "<matplotlib.figure.Figure at 0x194c29a52b0>"
      ]
     },
     "metadata": {},
     "output_type": "display_data"
    }
   ],
   "source": [
    "# set lists\n",
    "LABELS=['Function', 'Object_Type', 'Operating_Status', 'Position_Type','Pre_K', 'Reporting','Sharing','Student_Type','Use']\n",
    "NUMERIC_COLUMNS=['FTE','Total']\n",
    "TEXT_COLUMNS = list(set(budget_df.columns.tolist()) - set(LABELS + NUMERIC_COLUMNS))\n",
    "\n",
    "# Calculate number of unique values for each label: num_unique_labels\n",
    "num_unique_labels = budget_df[LABELS].apply(pd.Series.nunique)\n",
    "\n",
    "# Plot number of unique values for each label\n",
    "num_unique_labels.plot(kind='bar')\n",
    "\n",
    "# Label the axes\n",
    "plt.xlabel('Labels')\n",
    "plt.ylabel('Number of unique values')\n",
    "plt.title('Number Unique Values by Label')\n",
    "\n",
    "# Display the plot\n",
    "plt.show()"
   ]
  },
  {
   "cell_type": "code",
   "execution_count": 15,
   "metadata": {},
   "outputs": [
    {
     "data": {
      "image/png": "[encoded data removed]",
      "text/plain": [
       "<matplotlib.figure.Figure at 0x194c2a13d30>"
      ]
     },
     "metadata": {},
     "output_type": "display_data"
    }
   ],
   "source": [
    "# Calculate number of unique values in each text column: num_unique_labels\n",
    "num_unique_text = budget_df[TEXT_COLUMNS].apply(pd.Series.nunique)\n",
    "\n",
    "# Plot number of unique values for each label\n",
    "num_unique_text.plot(kind='bar')\n",
    "\n",
    "# Label the axes\n",
    "plt.xlabel('Text Column')\n",
    "plt.ylabel('Number of unique values')\n",
    "plt.title('Number Unique Values by Text Column')\n",
    "\n",
    "# Display the plot\n",
    "plt.show()"
   ]
  },
  {
   "cell_type": "markdown",
   "metadata": {},
   "source": [
    "Our dataset consists almost entirely of free form text columns, with quite a large set of unique values in each column. This text can be transformed into features using a bag-of-words approach and incorporated into our machine learning algorithms.\n",
    "\n",
    "In the code below, I first combine all text columns into a single text vector to make it easier to extract the features. I use the NLTK 'SnowballStemmer' to stem words to their root so that words like \"fishes\" and \"fish\" are considered essentially the same."
   ]
  },
  {
   "cell_type": "code",
   "execution_count": 16,
   "metadata": {},
   "outputs": [
    {
     "name": "stderr",
     "output_type": "stream",
     "text": [
      "C:\\Users\\ADINA\\Anaconda3\\lib\\site-packages\\pandas\\core\\frame.py:2852: SettingWithCopyWarning: \n",
      "A value is trying to be set on a copy of a slice from a DataFrame\n",
      "\n",
      "See the caveats in the documentation: http://pandas.pydata.org/pandas-docs/stable/indexing.html#indexing-view-versus-copy\n",
      "  downcast=downcast, **kwargs)\n",
      "C:\\Users\\ADINA\\Anaconda3\\lib\\site-packages\\ipykernel_launcher.py:13: SettingWithCopyWarning: \n",
      "A value is trying to be set on a copy of a slice from a DataFrame\n",
      "\n",
      "See the caveats in the documentation: http://pandas.pydata.org/pandas-docs/stable/indexing.html#indexing-view-versus-copy\n",
      "  del sys.path[0]\n"
     ]
    },
    {
     "data": {
      "text/html": [
       "<div>\n",
       "<style>\n",
       "    .dataframe thead tr:only-child th {\n",
       "        text-align: right;\n",
       "    }\n",
       "\n",
       "    .dataframe thead th {\n",
       "        text-align: left;\n",
       "    }\n",
       "\n",
       "    .dataframe tbody tr th {\n",
       "        vertical-align: top;\n",
       "    }\n",
       "</style>\n",
       "<table border=\"1\" class=\"dataframe\">\n",
       "  <thead>\n",
       "    <tr style=\"text-align: right;\">\n",
       "      <th></th>\n",
       "      <th>FTE</th>\n",
       "      <th>Total</th>\n",
       "      <th>Text</th>\n",
       "    </tr>\n",
       "  </thead>\n",
       "  <tbody>\n",
       "    <tr>\n",
       "      <th>0</th>\n",
       "      <td>1.0000</td>\n",
       "      <td>50471.8100</td>\n",
       "      <td>kindergarten  kindergarten  teacher elementa...</td>\n",
       "    </tr>\n",
       "    <tr>\n",
       "      <th>2</th>\n",
       "      <td>1.0000</td>\n",
       "      <td>62237.1300</td>\n",
       "      <td>instruction   regular regular instruction te...</td>\n",
       "    </tr>\n",
       "    <tr>\n",
       "      <th>3</th>\n",
       "      <td>-1000.0000</td>\n",
       "      <td>22.3000</td>\n",
       "      <td>regular instruction  general middle junior hig...</td>\n",
       "    </tr>\n",
       "    <tr>\n",
       "      <th>4</th>\n",
       "      <td>-1000.0000</td>\n",
       "      <td>54.1660</td>\n",
       "      <td>regular instruction  general high school educa...</td>\n",
       "    </tr>\n",
       "    <tr>\n",
       "      <th>5</th>\n",
       "      <td>-1000.0000</td>\n",
       "      <td>0.0000</td>\n",
       "      <td>employee benefits  employee benefits  undesign...</td>\n",
       "    </tr>\n",
       "  </tbody>\n",
       "</table>\n",
       "</div>"
      ],
      "text/plain": [
       "         FTE      Total                                               Text\n",
       "0     1.0000 50471.8100    kindergarten  kindergarten  teacher elementa...\n",
       "2     1.0000 62237.1300    instruction   regular regular instruction te...\n",
       "3 -1000.0000    22.3000  regular instruction  general middle junior hig...\n",
       "4 -1000.0000    54.1660  regular instruction  general high school educa...\n",
       "5 -1000.0000     0.0000  employee benefits  employee benefits  undesign..."
      ]
     },
     "execution_count": 16,
     "metadata": {},
     "output_type": "execute_result"
    }
   ],
   "source": [
    "# prepare data for natural language processing \n",
    "import nltk\n",
    "from nltk.stem import SnowballStemmer\n",
    "stemmer = SnowballStemmer('english')\n",
    "\n",
    "# Restrict data to just text columns\n",
    "text_data = budget_df[TEXT_COLUMNS]\n",
    "\n",
    "# Replace nans with blanks\n",
    "text_data.fillna(\"\", inplace=True)\n",
    "\n",
    "# Eliminate punctuation\n",
    "text_data.replace(to_replace=['[^\\w\\s]','(blank)'],value=\" \", inplace=True, regex=True)\n",
    "\n",
    "# Join all text items in a row that have a space in between\n",
    "text_data=text_data.apply(lambda x: \" \".join(x), axis=1)\n",
    "\n",
    "# Apply the stemmer\n",
    "text_data_stemmed=text_data.apply(lambda x: stemmer.stem(x))\n",
    "\n",
    "NUMERIC_COLUMNS=['FTE','Total']\n",
    "\n",
    "# Create the new DataFrame: numeric_data_only\n",
    "# Fill NA's with -1000 so our models know to treat them differently from 0\n",
    "numeric_data_only = budget_df[NUMERIC_COLUMNS].fillna(-1000)\n",
    "\n",
    "# Concatenate the numeric and text columns together\n",
    "df=pd.concat([numeric_data_only, text_data_stemmed], axis=1)\n",
    "df.rename(columns={\"FTE\": \"FTE\", \"Total\": \"Total\", 0: \"Text\"},inplace=True)\n",
    "\n",
    "df.head()"
   ]
  },
  {
   "cell_type": "markdown",
   "metadata": {},
   "source": [
    "The next step is to extract numerical features from the now combined text column so that they can be incorporated into our classification model. For this, I use sci-kit learn's TfidfVectorizer. TFIDF stands for Term Frequency - Inverse Document Frequency. Mathematically, TFIDF features are computed using the formula <i>tf(t,d) * idf(t)</i>, where <i>t</i> is the term (i.e., a word), <i>d</i> is the document (i.e., our text column) and <i>tf</i> is the number of occurrences of the term in the document. The <i>idf</i> function is computed as <i>log [ n / df(d, t) ] + 1</i>. Here, <i>n</i> is the total number of documents and <i>df(d,t)</i> is the number of documents that contain the word <i>t</i>. The effect of the idf function is therefore to reduce the weight of words that are more common across line items, which would make classifying a line item item based on distinctive features slightly easier. I also remove all \"stop words,\" i.e. words that are common and don't provide much information (e.g. \"he\", \"and\", \"the\" et cetera) and words that appear in more than 70% of all line items. In addition, I also use the TruncatedSVD function to reduce the dimensions of the TFIDF matrix.\n",
    "\n",
    "After applying the TFIDF/SVD transformations, I split the data into a training and test set, with the test set being 20% of the original data and the training dataset forming 80% of the data."
   ]
  },
  {
   "cell_type": "code",
   "execution_count": 17,
   "metadata": {},
   "outputs": [
    {
     "name": "stderr",
     "output_type": "stream",
     "text": [
      "C:\\Users\\ADINA\\Anaconda3\\lib\\site-packages\\sklearn\\feature_extraction\\text.py:1059: FutureWarning: Conversion of the second argument of issubdtype from `float` to `np.floating` is deprecated. In future, it will be treated as `np.float64 == np.dtype(float).type`.\n",
      "  if hasattr(X, 'dtype') and np.issubdtype(X.dtype, np.float):\n"
     ]
    }
   ],
   "source": [
    "# vectorize and split\n",
    "from sklearn.feature_extraction.text import TfidfVectorizer\n",
    "from sklearn.decomposition import TruncatedSVD\n",
    "from sklearn.model_selection import train_test_split\n",
    "from sklearn_pandas import DataFrameMapper\n",
    "\n",
    "# set the token pattern\n",
    "TOKENS_ALPHANUMERIC = '[A-Za-z0-9]+(?=\\\\s+)'\n",
    "\n",
    "# Since we are processing both numeric and text features at the same time, use DataFrameMapper to build the pipeline\n",
    "mapper = DataFrameMapper([\n",
    "     ('FTE', None),\n",
    "     ('Total', None),\n",
    "     ('Text', [TfidfVectorizer(token_pattern=TOKENS_ALPHANUMERIC, max_df=0.7,stop_words='english', ngram_range=(1,2)),\n",
    "              TruncatedSVD(n_components=100, n_iter=25, random_state=12)]\n",
    "     )\n",
    "     ])\n",
    "\n",
    "features = mapper.fit_transform(df)\n",
    "labels = budget_df['Use']\n",
    "\n",
    "# split data, stratify by labels\n",
    "features_train, features_test, labels_train, labels_test = train_test_split(features, labels, test_size=0.20, \n",
    "                                            random_state=42, stratify=labels)"
   ]
  },
  {
   "cell_type": "markdown",
   "metadata": {},
   "source": [
    "<b>2. Model Estimation and Evaluation</b>"
   ]
  },
  {
   "cell_type": "markdown",
   "metadata": {},
   "source": [
    "Now that we have our features ready, we can fit our machine learning classifier. The model I choose to fit is the Random Forest Classifier, which is appropriate for these data because it reduces the risk of overfitting, and is able to quickly and efficiently process sparse matrices associated with text features. A random forest with <i>n</i> trees is created by forming <i>n</i> random samples of size  <i>m</i> from the training data. Each set of random samples consists of  <i>m</i> randomly selected rows. For each set, a decision tree is fit. A random forest performs classification by using a voting method. Each tree in the forest produces a class label and the class label that appears most is taken as the final prediction."
   ]
  },
  {
   "cell_type": "code",
   "execution_count": 25,
   "metadata": {},
   "outputs": [],
   "source": [
    "# import relevant modules\n",
    "\n",
    "import scipy\n",
    "from random import randint\n",
    "from sklearn.model_selection import cross_val_predict\n",
    "from sklearn.model_selection import StratifiedKFold\n",
    "from sklearn.linear_model import LogisticRegression\n",
    "from sklearn.metrics import log_loss, accuracy_score\n",
    "from sklearn.ensemble import RandomForestClassifier\n",
    "from sklearn.model_selection import GridSearchCV\n",
    "from sklearn.metrics import confusion_matrix\n",
    "import itertools\n",
    "\n",
    "def plot_confusion_matrix(cm, classes,\n",
    "                          normalize=False,\n",
    "                          title='Confusion matrix',\n",
    "                          cmap=plt.cm.Blues):\n",
    "    \"\"\"\n",
    "    This function prints and plots the confusion matrix.\n",
    "    Normalization can be applied by setting `normalize=True`.\n",
    "    \"\"\"\n",
    "    if normalize:\n",
    "        cm = cm.astype('float') / cm.sum(axis=1)[:, np.newaxis]\n",
    "        print(\"Normalized confusion matrix\")\n",
    "    else:\n",
    "        print('Confusion matrix, without normalization')\n",
    "\n",
    "    print(cm)\n",
    "    \n",
    "    plt.rcParams.update({'font.size': 10})\n",
    "    plt.figure(figsize=[10, 10])\n",
    "    plt.imshow(cm, interpolation='nearest', cmap=cmap)\n",
    "    plt.title(title)\n",
    "    plt.colorbar()\n",
    "    tick_marks = np.arange(len(classes))\n",
    "    plt.xticks(tick_marks, classes, rotation=45)\n",
    "    plt.yticks(tick_marks, classes)\n",
    "\n",
    "    fmt = '.2f' if normalize else 'd'\n",
    "    thresh = cm.max() / 2.\n",
    "    for i, j in itertools.product(range(cm.shape[0]), range(cm.shape[1])):\n",
    "        plt.text(j, i, format(cm[i, j], fmt),\n",
    "                 horizontalalignment=\"center\",\n",
    "                 color=\"white\" if cm[i, j] > thresh else \"black\")\n",
    "\n",
    "    plt.tight_layout()\n",
    "    plt.ylabel('True label')\n",
    "    plt.xlabel('Predicted label')\n",
    "\n",
    "\n",
    "def evaluate_features(X, y, X_test, y_test, estimator, param_grid):\n",
    "    \n",
    "    # set the classifier\n",
    "    clf=GridSearchCV(estimator, param_grid, n_jobs=-1,verbose=3, cv=StratifiedKFold(random_state=12))\n",
    "    # fit the model\n",
    "    clf.fit(X, y)\n",
    "    probas = clf.predict_proba(X_test)\n",
    "    pred_indices = np.argmax(probas, axis=1)\n",
    "    classes = np.unique(y_test)\n",
    "    preds = classes[pred_indices]\n",
    "    print('Log loss: {}'.format(log_loss(y_test, probas)))\n",
    "    print('Accuracy: {}'.format(accuracy_score(y_test, preds)))\n",
    "    # Compute confusion matrix\n",
    "    cnf_matrix = confusion_matrix(y_test, preds)\n",
    "    np.set_printoptions(precision=2)\n",
    "\n",
    "    # Plot non-normalized confusion matrix\n",
    "    plt.figure()\n",
    "    plot_confusion_matrix(cnf_matrix, classes=classes,\n",
    "                          title='Confusion matrix, without normalization')"
   ]
  },
  {
   "cell_type": "code",
   "execution_count": 26,
   "metadata": {
    "collapsed": true
   },
   "outputs": [
    {
     "name": "stdout",
     "output_type": "stream",
     "text": [
      "Fitting 3 folds for each of 16 candidates, totalling 48 fits\n"
     ]
    },
    {
     "name": "stderr",
     "output_type": "stream",
     "text": [
      "[Parallel(n_jobs=-1)]: Done  24 tasks      | elapsed:  6.2min\n",
      "[Parallel(n_jobs=-1)]: Done  48 out of  48 | elapsed: 14.2min finished\n"
     ]
    },
    {
     "name": "stdout",
     "output_type": "stream",
     "text": [
      "Log loss: 0.1754065440978395\n",
      "Accuracy: 0.9583244737401658\n",
      "Confusion matrix, without normalization\n",
      "[[  981    47   105    27    26    37     0]\n",
      " [   46  4530   430    28     9    73     1]\n",
      " [   26   117 37530    30    26    84     2]\n",
      " [  109    81   214  2657    19    43     0]\n",
      " [   70    17    81    15  8870    20     2]\n",
      " [   46   108   497    28    18  4018     0]\n",
      " [    2    31    28     2     2     1     5]]\n"
     ]
    },
    {
     "data": {
      "text/plain": [
       "<matplotlib.figure.Figure at 0x194c2571198>"
      ]
     },
     "metadata": {},
     "output_type": "display_data"
    },
    {
     "data": {
      "image/png": "[encoded data removed]",
      "text/plain": [
       "<matplotlib.figure.Figure at 0x1948176a518>"
      ]
     },
     "metadata": {},
     "output_type": "display_data"
    }
   ],
   "source": [
    "evaluate_features(features_train, labels_train, features_test, labels_test,\n",
    "                  RandomForestClassifier(),{\"n_estimators\":[5,10],\n",
    "                                            \"max_depth\" : [10,15],\n",
    "                                            \"min_samples_leaf\" : [1,6],\n",
    "                                            \"criterion\": [\"gini\", \"entropy\"],\n",
    "                                            \"random_state\": [123]})"
   ]
  },
  {
   "cell_type": "markdown",
   "metadata": {},
   "source": [
    "To evaluate the success of the classifier, I compute both the accuracy and the log loss metrics. The accuracy of the model is calculated as the number of correct predictions over the total number in the sample. As indicated above, the accuracy of the classifier is about 97%, which means that line items are classified into the correct category about 97% of the time. However, the accuracy can be a slightly inflated measure of success when classes are heavily imbalanced, as is the case with our data. Therefore, I also calculate the log loss, which takes into account the actual uncertainty of the model's prediction based on how much it varies from the actual label. The model is therefore penalized when it confidently predicts an incorrect value for the label - a perfect classifier would have a log loss of zero. As we can see above, our classifier performs remarkably well, with a log loss of only 0.17. It's instructive to note that it doesn't perform nearly as well when trying to classify smaller categories such as \"Untracked Budget Set-Aside\" - it only classifies it correctly about 50% of the time."
   ]
  },
  {
   "cell_type": "code",
   "execution_count": 103,
   "metadata": {},
   "outputs": [
    {
     "name": "stderr",
     "output_type": "stream",
     "text": [
      "C:\\Users\\ADINA\\Anaconda3\\lib\\site-packages\\sklearn\\feature_extraction\\text.py:1059: FutureWarning:\n",
      "\n",
      "Conversion of the second argument of issubdtype from `float` to `np.floating` is deprecated. In future, it will be treated as `np.float64 == np.dtype(float).type`.\n",
      "\n",
      "C:\\Users\\ADINA\\Anaconda3\\lib\\site-packages\\sklearn\\utils\\__init__.py:54: FutureWarning:\n",
      "\n",
      "Conversion of the second argument of issubdtype from `int` to `np.signedinteger` is deprecated. In future, it will be treated as `np.int32 == np.dtype(int).type`.\n",
      "\n"
     ]
    },
    {
     "data": {
      "text/html": [
       "<div>\n",
       "<style>\n",
       "    .dataframe thead tr:only-child th {\n",
       "        text-align: right;\n",
       "    }\n",
       "\n",
       "    .dataframe thead th {\n",
       "        text-align: left;\n",
       "    }\n",
       "\n",
       "    .dataframe tbody tr th {\n",
       "        vertical-align: top;\n",
       "    }\n",
       "</style>\n",
       "<table border=\"1\" class=\"dataframe\">\n",
       "  <thead>\n",
       "    <tr style=\"text-align: right;\">\n",
       "      <th>label</th>\n",
       "      <th>Business Services</th>\n",
       "      <th>ISPD</th>\n",
       "      <th>Instruction</th>\n",
       "      <th>Leadership</th>\n",
       "      <th>O&amp;M</th>\n",
       "      <th>Pupil Services &amp; Enrichment</th>\n",
       "      <th>Untracked Budget Set-Aside</th>\n",
       "    </tr>\n",
       "  </thead>\n",
       "  <tbody>\n",
       "    <tr>\n",
       "      <th>0</th>\n",
       "      <td>systems</td>\n",
       "      <td>staff</td>\n",
       "      <td>teacher</td>\n",
       "      <td>admin</td>\n",
       "      <td>crafts</td>\n",
       "      <td>athletics</td>\n",
       "      <td>unemployment</td>\n",
       "    </tr>\n",
       "    <tr>\n",
       "      <th>1</th>\n",
       "      <td>human</td>\n",
       "      <td>dev</td>\n",
       "      <td>instruction</td>\n",
       "      <td>principal</td>\n",
       "      <td>trades</td>\n",
       "      <td>students</td>\n",
       "      <td>tsa</td>\n",
       "    </tr>\n",
       "    <tr>\n",
       "      <th>2</th>\n",
       "      <td>technology</td>\n",
       "      <td>facilitator</td>\n",
       "      <td>regular</td>\n",
       "      <td>secretary</td>\n",
       "      <td>transportation</td>\n",
       "      <td>extracurricular</td>\n",
       "      <td>trust</td>\n",
       "    </tr>\n",
       "    <tr>\n",
       "      <th>3</th>\n",
       "      <td>computer</td>\n",
       "      <td>leadership</td>\n",
       "      <td>support</td>\n",
       "      <td>administration</td>\n",
       "      <td>food</td>\n",
       "      <td>sports</td>\n",
       "      <td>mycom</td>\n",
       "    </tr>\n",
       "    <tr>\n",
       "      <th>4</th>\n",
       "      <td>itemgg</td>\n",
       "      <td>development</td>\n",
       "      <td>education</td>\n",
       "      <td>office</td>\n",
       "      <td>plant</td>\n",
       "      <td>counselor</td>\n",
       "      <td>stance</td>\n",
       "    </tr>\n",
       "    <tr>\n",
       "      <th>5</th>\n",
       "      <td>central</td>\n",
       "      <td>curriculum</td>\n",
       "      <td>elementary</td>\n",
       "      <td>administrative</td>\n",
       "      <td>bus</td>\n",
       "      <td>nurse</td>\n",
       "      <td>brick</td>\n",
       "    </tr>\n",
       "    <tr>\n",
       "      <th>6</th>\n",
       "      <td>resources</td>\n",
       "      <td>training</td>\n",
       "      <td>transportation</td>\n",
       "      <td>support</td>\n",
       "      <td>service</td>\n",
       "      <td>speech</td>\n",
       "      <td>sol</td>\n",
       "    </tr>\n",
       "    <tr>\n",
       "      <th>7</th>\n",
       "      <td>ist</td>\n",
       "      <td>instr</td>\n",
       "      <td>crafts</td>\n",
       "      <td>administrator</td>\n",
       "      <td>operation</td>\n",
       "      <td>psychologist</td>\n",
       "      <td>allcity</td>\n",
       "    </tr>\n",
       "    <tr>\n",
       "      <th>8</th>\n",
       "      <td>information</td>\n",
       "      <td>learning</td>\n",
       "      <td>trades</td>\n",
       "      <td>school</td>\n",
       "      <td>driver</td>\n",
       "      <td>guidance</td>\n",
       "      <td>blk</td>\n",
       "    </tr>\n",
       "    <tr>\n",
       "      <th>9</th>\n",
       "      <td>accounting</td>\n",
       "      <td>workshop</td>\n",
       "      <td>services</td>\n",
       "      <td>princ</td>\n",
       "      <td>teacher</td>\n",
       "      <td>work</td>\n",
       "      <td>lem</td>\n",
       "    </tr>\n",
       "  </tbody>\n",
       "</table>\n",
       "</div>"
      ],
      "text/plain": [
       "label Business Services         ISPD     Instruction      Leadership  \\\n",
       "0               systems        staff         teacher           admin   \n",
       "1                 human          dev     instruction       principal   \n",
       "2            technology  facilitator         regular       secretary   \n",
       "3              computer   leadership         support  administration   \n",
       "4                itemgg  development       education          office   \n",
       "5               central   curriculum      elementary  administrative   \n",
       "6             resources     training  transportation         support   \n",
       "7                   ist        instr          crafts   administrator   \n",
       "8           information     learning          trades          school   \n",
       "9            accounting     workshop        services           princ   \n",
       "\n",
       "label             O&M Pupil Services & Enrichment Untracked Budget Set-Aside  \n",
       "0              crafts                   athletics               unemployment  \n",
       "1              trades                    students                        tsa  \n",
       "2      transportation             extracurricular                      trust  \n",
       "3                food                      sports                      mycom  \n",
       "4               plant                   counselor                     stance  \n",
       "5                 bus                       nurse                      brick  \n",
       "6             service                      speech                        sol  \n",
       "7           operation                psychologist                    allcity  \n",
       "8              driver                    guidance                        blk  \n",
       "9             teacher                        work                        lem  "
      ]
     },
     "execution_count": 103,
     "metadata": {},
     "output_type": "execute_result"
    }
   ],
   "source": [
    "# Next, identify most predictive words for each class\n",
    "from sklearn.feature_selection import SelectKBest\n",
    "from sklearn.feature_selection import chi2\n",
    "\n",
    "vectorizer=TfidfVectorizer(token_pattern=TOKENS_ALPHANUMERIC, max_df=0.7,stop_words='english')\n",
    "matrix=vectorizer.fit_transform(text_data)\n",
    "\n",
    "IV = np.zeros((len(vectorizer.vocabulary_)), dtype = object)\n",
    "for k, v in vectorizer.vocabulary_.items():\n",
    "    IV[v] = k\n",
    "\n",
    "labels = list(budget_df.Use.unique())\n",
    "\n",
    "data=pd.DataFrame()\n",
    "for i, Ai in enumerate(labels):\n",
    "    budget_df['flag']=budget_df.Use==Ai\n",
    "    C = SelectKBest(k = 10)\n",
    "    C.fit_transform(matrix, budget_df['flag'])\n",
    "    FR = C.scores_\n",
    "    df=pd.DataFrame(data={'Word': IV, 'Score': FR})\n",
    "    df.sort_values('Score', ascending=False, inplace=True)\n",
    "    df.drop('Score', axis=1, inplace=True)\n",
    "    df.reset_index(drop=True, inplace=True)\n",
    "    df['label']=Ai\n",
    "    data=data.append(df.head(10))\n",
    "    \n",
    "data=data.pivot(columns='label', values='Word')\n",
    "data.reset_index(drop=True, inplace=True)\n",
    "data"
   ]
  },
  {
   "cell_type": "markdown",
   "metadata": {},
   "source": [
    "The table above shows the most predictive words for each class. It makes sense that variants of \"teacher\" and \"education\" fall under Instruction, whereas variants of \"admin\" and \"principal\" fall under leadership."
   ]
  },
  {
   "cell_type": "markdown",
   "metadata": {},
   "source": [
    "## Discussion\n",
    "\n",
    "With the help of machine learning algorithms, ERS can streamline their classification of budget line items more effectively, which would enable them to divert resources to other tasks."
   ]
  }
 ],
 "metadata": {
  "kernelspec": {
   "display_name": "Python 3",
   "language": "python",
   "name": "python3"
  },
  "language_info": {
   "codemirror_mode": {
    "name": "ipython",
    "version": 3
   },
   "file_extension": ".py",
   "mimetype": "text/x-python",
   "name": "python",
   "nbconvert_exporter": "python",
   "pygments_lexer": "ipython3",
   "version": "3.6.1"
  }
 },
 "nbformat": 4,
 "nbformat_minor": 2
}
